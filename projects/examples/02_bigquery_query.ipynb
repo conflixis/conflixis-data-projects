{
 "cells": [
  {
   "cell_type": "markdown",
   "metadata": {},
   "source": [
    "# BigQuery Query Example - Jupyter Notebook\n",
    "\n",
    "This notebook demonstrates querying the PHYSICIANS_OVERVIEW table using Python in a Jupyter environment."
   ]
  },
  {
   "cell_type": "markdown",
   "metadata": {},
   "source": [
    "## Setup and Import Libraries"
   ]
  },
  {
   "cell_type": "code",
   "execution_count": null,
   "metadata": {},
   "outputs": [],
   "source": [
    "# Import required libraries\n",
    "import os\n",
    "import pandas as pd\n",
    "import numpy as np\n",
    "from google.cloud import bigquery\n",
    "from google.oauth2 import service_account\n",
    "import matplotlib.pyplot as plt\n",
    "import seaborn as sns\n",
    "from dotenv import load_dotenv\n",
    "\n",
    "# Set display options\n",
    "pd.set_option('display.max_columns', None)\n",
    "pd.set_option('display.max_rows', 100)\n",
    "pd.set_option('display.max_colwidth', 50)\n",
    "\n",
    "# Set plot style\n",
    "plt.style.use('seaborn-v0_8-darkgrid')\n",
    "sns.set_palette('husl')"
   ]
  },
  {
   "cell_type": "markdown",
   "metadata": {},
   "source": [
    "## Load Environment Variables and Authenticate"
   ]
  },
  {
   "cell_type": "code",
   "execution_count": null,
   "metadata": {},
   "outputs": [],
   "source": [
    "# Load environment variables from common/.env\n",
    "load_dotenv('../../common/.env')\n",
    "\n",
    "# Get the path to service account key\n",
    "credentials_path = os.getenv('GOOGLE_APPLICATION_CREDENTIALS')\n",
    "\n",
    "# Create credentials object\n",
    "credentials = service_account.Credentials.from_service_account_file(\n",
    "    credentials_path,\n",
    "    scopes=[\"https://www.googleapis.com/auth/cloud-platform\"],\n",
    ")\n",
    "\n",
    "# Initialize BigQuery client with credentials\n",
    "client = bigquery.Client(\n",
    "    credentials=credentials,\n",
    "    project=credentials.project_id,\n",
    ")\n",
    "\n",
    "print(f\"Connected to project: {client.project}\")"
   ]
  },
  {
   "cell_type": "markdown",
   "metadata": {},
   "source": [
    "## Query the PHYSICIANS_OVERVIEW Table"
   ]
  },
  {
   "cell_type": "code",
   "execution_count": null,
   "metadata": {},
   "outputs": [],
   "source": [
    "# Define the query\n",
    "query = \"\"\"\n",
    "SELECT * \n",
    "FROM `data-analytics-389803.CONFLIXIS_309340.PHYSICIANS_OVERVIEW` \n",
    "LIMIT 100\n",
    "\"\"\"\n",
    "\n",
    "# Execute query and convert to DataFrame\n",
    "df = client.query(query).to_dataframe()\n",
    "\n",
    "print(f\"Query returned {len(df)} rows and {len(df.columns)} columns\")\n",
    "print(\"\\nColumn names:\")\n",
    "print(df.columns.tolist())"
   ]
  },
  {
   "cell_type": "markdown",
   "metadata": {},
   "source": [
    "## Explore the Data"
   ]
  },
  {
   "cell_type": "code",
   "execution_count": null,
   "metadata": {},
   "outputs": [],
   "source": [
    "# Display first 5 rows\n",
    "print(\"First 5 rows of the data:\")\n",
    "df.head()"
   ]
  },
  {
   "cell_type": "code",
   "execution_count": null,
   "metadata": {},
   "outputs": [],
   "source": [
    "# Display basic information about the dataset\n",
    "print(\"Dataset Info:\")\n",
    "df.info()"
   ]
  },
  {
   "cell_type": "code",
   "execution_count": null,
   "metadata": {},
   "outputs": [],
   "source": [
    "# Display summary statistics for numeric columns\n",
    "print(\"Summary Statistics:\")\n",
    "df.describe()"
   ]
  },
  {
   "cell_type": "code",
   "execution_count": null,
   "metadata": {},
   "outputs": [],
   "source": [
    "# Check for missing values\n",
    "print(\"Missing values per column:\")\n",
    "missing_values = df.isnull().sum()\n",
    "missing_values[missing_values > 0]"
   ]
  },
  {
   "cell_type": "markdown",
   "metadata": {},
   "source": [
    "## Simple Visualization Example\n",
    "\n",
    "Note: The visualization below is a placeholder. Update it based on the actual columns in your PHYSICIANS_OVERVIEW table."
   ]
  },
  {
   "cell_type": "code",
   "execution_count": null,
   "metadata": {},
   "outputs": [],
   "source": [
    "# Example: If there's a categorical column, show its distribution\n",
    "# Update this based on your actual data columns\n",
    "\n",
    "# Get categorical columns\n",
    "categorical_cols = df.select_dtypes(include=['object']).columns.tolist()\n",
    "\n",
    "if categorical_cols:\n",
    "    # Plot distribution of first categorical column\n",
    "    col = categorical_cols[0]\n",
    "    \n",
    "    # Count values\n",
    "    value_counts = df[col].value_counts().head(10)\n",
    "    \n",
    "    # Create plot\n",
    "    plt.figure(figsize=(10, 6))\n",
    "    value_counts.plot(kind='bar')\n",
    "    plt.title(f'Top 10 Values in {col}')\n",
    "    plt.xlabel(col)\n",
    "    plt.ylabel('Count')\n",
    "    plt.xticks(rotation=45, ha='right')\n",
    "    plt.tight_layout()\n",
    "    plt.show()\n",
    "else:\n",
    "    print(\"No categorical columns found for visualization\")"
   ]
  },
  {
   "cell_type": "markdown",
   "metadata": {},
   "source": [
    "## Export Results (Optional)"
   ]
  },
  {
   "cell_type": "code",
   "execution_count": null,
   "metadata": {},
   "outputs": [],
   "source": [
    "# Save to CSV\n",
    "# df.to_csv('physicians_overview_sample.csv', index=False)\n",
    "# print(\"Data saved to physicians_overview_sample.csv\")\n",
    "\n",
    "# Save to Excel\n",
    "# df.to_excel('physicians_overview_sample.xlsx', index=False)\n",
    "# print(\"Data saved to physicians_overview_sample.xlsx\")"
   ]
  },
  {
   "cell_type": "markdown",
   "metadata": {},
   "source": [
    "## Query with Parameters\n",
    "\n",
    "Example of using parameterized queries for safety and flexibility:"
   ]
  },
  {
   "cell_type": "code",
   "execution_count": null,
   "metadata": {},
   "outputs": [],
   "source": [
    "# Example: Query with a parameter\n",
    "# Modify this based on your actual table schema\n",
    "\n",
    "job_config = bigquery.QueryJobConfig(\n",
    "    query_parameters=[\n",
    "        bigquery.ScalarQueryParameter(\"limit_rows\", \"INT64\", 50),\n",
    "    ]\n",
    ")\n",
    "\n",
    "parameterized_query = \"\"\"\n",
    "SELECT * \n",
    "FROM `data-analytics-389803.CONFLIXIS_309340.PHYSICIANS_OVERVIEW` \n",
    "LIMIT @limit_rows\n",
    "\"\"\"\n",
    "\n",
    "df_param = client.query(parameterized_query, job_config=job_config).to_dataframe()\n",
    "print(f\"Parameterized query returned {len(df_param)} rows\")"
   ]
  },
  {
   "cell_type": "markdown",
   "metadata": {},
   "source": [
    "## Next Steps\n",
    "\n",
    "- Explore specific columns relevant to your analysis\n",
    "- Join with other tables in the dataset\n",
    "- Create more sophisticated visualizations\n",
    "- Build analytical models based on the data"
   ]
  }
 ],
 "metadata": {
  "kernelspec": {
   "display_name": "Python 3",
   "language": "python",
   "name": "python3"
  },
  "language_info": {
   "codemirror_mode": {
    "name": "ipython",
    "version": 3
   },
   "file_extension": ".py",
   "mimetype": "text/x-python",
   "name": "python",
   "nbconvert_exporter": "python",
   "pygments_lexer": "ipython3",
   "version": "3.8.0"
  }
 },
 "nbformat": 4,
 "nbformat_minor": 4
}
