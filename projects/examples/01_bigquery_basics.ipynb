{
 "cells": [
  {
   "cell_type": "markdown",
   "metadata": {},
   "source": [
    "# BigQuery Basics - Getting Started\n",
    "\n",
    "This notebook demonstrates how to connect to Google BigQuery and perform basic queries using the Python client library."
   ]
  },
  {
   "cell_type": "markdown",
   "metadata": {},
   "source": [
    "## Setup and Authentication\n",
    "\n",
    "First, ensure you have authenticated with Google Cloud:\n",
    "```bash\n",
    "gcloud auth application-default login\n",
    "```"
   ]
  },
  {
   "cell_type": "code",
   "execution_count": null,
   "metadata": {},
   "outputs": [],
   "source": [
    "# Import required libraries\n",
    "import pandas as pd\n",
    "import numpy as np\n",
    "from google.cloud import bigquery\n",
    "import matplotlib.pyplot as plt\n",
    "import seaborn as sns\n",
    "\n",
    "# Set display options\n",
    "pd.set_option('display.max_columns', None)\n",
    "pd.set_option('display.max_rows', 100)\n",
    "\n",
    "# Set plot style\n",
    "plt.style.use('seaborn-v0_8')\n",
    "sns.set_palette('husl')"
   ]
  },
  {
   "cell_type": "markdown",
   "metadata": {},
   "source": [
    "## Initialize BigQuery Client"
   ]
  },
  {
   "cell_type": "code",
   "execution_count": null,
   "metadata": {},
   "outputs": [],
   "source": [
    "# Initialize the BigQuery client\n",
    "# Replace 'your-project-id' with your actual project ID\n",
    "PROJECT_ID = 'your-project-id'  # TODO: Update this\n",
    "client = bigquery.Client(project=PROJECT_ID)\n",
    "\n",
    "print(f\"Connected to project: {client.project}\")"
   ]
  },
  {
   "cell_type": "markdown",
   "metadata": {},
   "source": [
    "## Example 1: Basic Query"
   ]
  },
  {
   "cell_type": "code",
   "execution_count": null,
   "metadata": {},
   "outputs": [],
   "source": [
    "# Example query using a public dataset\n",
    "# This uses the BigQuery public dataset for demonstration\n",
    "query = \"\"\"\n",
    "SELECT \n",
    "    name,\n",
    "    SUM(number) as total_count,\n",
    "    COUNT(DISTINCT year) as years_popular\n",
    "FROM `bigquery-public-data.usa_names.usa_1910_current`\n",
    "WHERE year >= 2000\n",
    "GROUP BY name\n",
    "ORDER BY total_count DESC\n",
    "LIMIT 10\n",
    "\"\"\"\n",
    "\n",
    "# Execute query and convert to DataFrame\n",
    "df = client.query(query).to_dataframe()\n",
    "df"
   ]
  },
  {
   "cell_type": "markdown",
   "metadata": {},
   "source": [
    "## Example 2: Query with Parameters"
   ]
  },
  {
   "cell_type": "code",
   "execution_count": null,
   "metadata": {},
   "outputs": [],
   "source": [
    "# Using parameterized queries for safety and reusability\n",
    "job_config = bigquery.QueryJobConfig(\n",
    "    query_parameters=[\n",
    "        bigquery.ScalarQueryParameter(\"min_year\", \"INT64\", 2010),\n",
    "        bigquery.ScalarQueryParameter(\"limit\", \"INT64\", 20),\n",
    "    ]\n",
    ")\n",
    "\n",
    "parameterized_query = \"\"\"\n",
    "SELECT \n",
    "    year,\n",
    "    gender,\n",
    "    SUM(number) as total_births\n",
    "FROM `bigquery-public-data.usa_names.usa_1910_current`\n",
    "WHERE year >= @min_year\n",
    "GROUP BY year, gender\n",
    "ORDER BY year, gender\n",
    "LIMIT @limit\n",
    "\"\"\"\n",
    "\n",
    "df_params = client.query(parameterized_query, job_config=job_config).to_dataframe()\n",
    "df_params.head()"
   ]
  },
  {
   "cell_type": "markdown",
   "metadata": {},
   "source": [
    "## Example 3: Working with Your Own Data"
   ]
  },
  {
   "cell_type": "code",
   "execution_count": null,
   "metadata": {},
   "outputs": [],
   "source": [
    "# Template for querying your own datasets\n",
    "# Update the dataset and table names\n",
    "\n",
    "your_query = \"\"\"\n",
    "SELECT \n",
    "    *\n",
    "FROM `{project}.{dataset}.{table}`\n",
    "LIMIT 100\n",
    "\"\"\".format(\n",
    "    project=PROJECT_ID,\n",
    "    dataset='your_dataset_name',  # TODO: Update this\n",
    "    table='your_table_name'        # TODO: Update this\n",
    ")\n",
    "\n",
    "# Uncomment to run:\n",
    "# df_your_data = client.query(your_query).to_dataframe()\n",
    "# df_your_data.head()"
   ]
  },
  {
   "cell_type": "markdown",
   "metadata": {},
   "source": [
    "## Example 4: Simple Visualization"
   ]
  },
  {
   "cell_type": "code",
   "execution_count": null,
   "metadata": {},
   "outputs": [],
   "source": [
    "# Create a simple visualization from the parameterized query results\n",
    "if not df_params.empty:\n",
    "    # Pivot the data for plotting\n",
    "    pivot_df = df_params.pivot(index='year', columns='gender', values='total_births')\n",
    "    \n",
    "    # Create the plot\n",
    "    fig, ax = plt.subplots(figsize=(10, 6))\n",
    "    pivot_df.plot(kind='bar', ax=ax)\n",
    "    \n",
    "    ax.set_title('Total Births by Year and Gender', fontsize=16)\n",
    "    ax.set_xlabel('Year', fontsize=12)\n",
    "    ax.set_ylabel('Total Births', fontsize=12)\n",
    "    ax.legend(title='Gender')\n",
    "    \n",
    "    plt.xticks(rotation=45)\n",
    "    plt.tight_layout()\n",
    "    plt.show()"
   ]
  },
  {
   "cell_type": "markdown",
   "metadata": {},
   "source": [
    "## Best Practices\n",
    "\n",
    "1. **Use parameterized queries** to prevent SQL injection\n",
    "2. **Limit query results** during development to control costs\n",
    "3. **Cache results locally** when doing iterative analysis\n",
    "4. **Use appropriate data types** in your queries\n",
    "5. **Monitor query costs** in the BigQuery console"
   ]
  },
  {
   "cell_type": "markdown",
   "metadata": {},
   "source": [
    "## Saving Results"
   ]
  },
  {
   "cell_type": "code",
   "execution_count": null,
   "metadata": {},
   "outputs": [],
   "source": [
    "# Save results to CSV (will be git-ignored)\n",
    "# df.to_csv('../../data/query_results.csv', index=False)\n",
    "\n",
    "# Save visualizations to your project folder\n",
    "# fig.savefig('../outputs/births_by_gender.png', dpi=300, bbox_inches='tight')"
   ]
  },
  {
   "cell_type": "markdown",
   "metadata": {},
   "source": [
    "## Next Steps\n",
    "\n",
    "- Update the PROJECT_ID with your actual project\n",
    "- Modify queries to work with your datasets\n",
    "- Create more complex analyses\n",
    "- Share findings via Google Drive"
   ]
  }
 ],
 "metadata": {
  "kernelspec": {
   "display_name": "Python 3",
   "language": "python",
   "name": "python3"
  },
  "language_info": {
   "codemirror_mode": {
    "name": "ipython",
    "version": 3
   },
   "file_extension": ".py",
   "mimetype": "text/x-python",
   "name": "python",
   "nbconvert_exporter": "python",
   "pygments_lexer": "ipython3",
   "version": "3.8.0"
  }
 },
 "nbformat": 4,
 "nbformat_minor": 4
}